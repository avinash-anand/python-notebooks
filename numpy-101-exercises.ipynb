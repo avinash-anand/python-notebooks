{
 "cells": [
  {
   "cell_type": "markdown",
   "metadata": {},
   "source": [
    "# link - https://www.machinelearningplus.com/python/101-numpy-exercises-python/"
   ]
  },
  {
   "cell_type": "code",
   "execution_count": 1,
   "metadata": {},
   "outputs": [
    {
     "data": {
      "text/plain": [
       "'1.25.1'"
      ]
     },
     "execution_count": 1,
     "metadata": {},
     "output_type": "execute_result"
    }
   ],
   "source": [
    "# 1. Import numpy as np and see the version\n",
    "import numpy as np\n",
    "np.__version__"
   ]
  },
  {
   "cell_type": "code",
   "execution_count": 2,
   "metadata": {},
   "outputs": [
    {
     "name": "stdout",
     "output_type": "stream",
     "text": [
      "[0 1 2 3 4 5 6 7 8 9]\n",
      "[0 1 2 3 4 5 6 7 8 9]\n"
     ]
    }
   ],
   "source": [
    "# 2. How to create a 1D array?\n",
    "# Difficulty Level: L1\n",
    "\n",
    "# Q. Create a 1D array of numbers from 0 to 9\n",
    "\n",
    "# Desired output:\n",
    "\n",
    "# > array([0, 1, 2, 3, 4, 5, 6, 7, 8, 9])\n",
    "\n",
    "print(np.array(object=range(0, 10)))\n",
    "print(np.arange(10))"
   ]
  },
  {
   "cell_type": "code",
   "execution_count": 3,
   "metadata": {},
   "outputs": [
    {
     "name": "stdout",
     "output_type": "stream",
     "text": [
      "[[ True  True  True]\n",
      " [ True  True  True]\n",
      " [ True  True  True]]\n",
      "[[ True  True  True]\n",
      " [ True  True  True]\n",
      " [ True  True  True]]\n"
     ]
    }
   ],
   "source": [
    "# 3. How to create a boolean array?\n",
    "# Difficulty Level: L1\n",
    "\n",
    "# Q. Create a 3×3 numpy array of all True’s\n",
    "\n",
    "print(np.full(shape=(3, 3), fill_value=True, dtype=bool))\n",
    "print(np.ones(shape=(3, 3), dtype=bool))"
   ]
  },
  {
   "cell_type": "code",
   "execution_count": 4,
   "metadata": {},
   "outputs": [
    {
     "name": "stdout",
     "output_type": "stream",
     "text": [
      "[1 3 5 7 9]\n",
      "[1 3 5 7 9]\n"
     ]
    }
   ],
   "source": [
    "# 4. How to extract items that satisfy a given condition from 1D array?\n",
    "# Difficulty Level: L1\n",
    "\n",
    "# Q. Extract all odd numbers from arr\n",
    "\n",
    "# Input:\n",
    "\n",
    "# arr = np.array([0, 1, 2, 3, 4, 5, 6, 7, 8, 9])\n",
    "# Desired output:\n",
    "\n",
    "# > array([1, 3, 5, 7, 9])\n",
    "arr = np.array([0, 1, 2, 3, 4, 5, 6, 7, 8, 9])\n",
    "condition = np.mod(arr, 2) != 0\n",
    "print(np.extract(condition=condition, arr=arr))\n",
    "\n",
    "print(arr[arr % 2 == 1])"
   ]
  },
  {
   "cell_type": "code",
   "execution_count": 7,
   "metadata": {},
   "outputs": [
    {
     "data": {
      "text/plain": [
       "array([ 0, -1,  2, -1,  4, -1,  6, -1,  8, -1])"
      ]
     },
     "execution_count": 7,
     "metadata": {},
     "output_type": "execute_result"
    }
   ],
   "source": [
    "# 5. How to replace items that satisfy a condition with another value in numpy array?\n",
    "# Difficulty Level: L1\n",
    "\n",
    "# Q. Replace all odd numbers in arr with -1\n",
    "\n",
    "# Input:\n",
    "\n",
    "# arr = np.array([0, 1, 2, 3, 4, 5, 6, 7, 8, 9])\n",
    "# Desired Output:\n",
    "\n",
    "# >  array([ 0, -1,  2, -1,  4, -1,  6, -1,  8, -1])\n",
    "arr = np.array([0, 1, 2, 3, 4, 5, 6, 7, 8, 9])\n",
    "arr[arr % 2 != 0] = -1\n",
    "arr"
   ]
  },
  {
   "cell_type": "code",
   "execution_count": 12,
   "metadata": {},
   "outputs": [
    {
     "name": "stdout",
     "output_type": "stream",
     "text": [
      "[ 0 -1  2 -1  4 -1  6 -1  8 -1]\n",
      "[0 1 2 3 4 5 6 7 8 9]\n"
     ]
    }
   ],
   "source": [
    "# 6. How to replace items that satisfy a condition without affecting the original array?\n",
    "# Difficulty Level: L2\n",
    "\n",
    "# Q. Replace all odd numbers in arr with -1 without changing arr\n",
    "\n",
    "# Input:\n",
    "\n",
    "# arr = np.array([0, 1, 2, 3, 4, 5, 6, 7, 8, 9])\n",
    "# Desired Output:\n",
    "# out\n",
    "# >  array([ 0, -1,  2, -1,  4, -1,  6, -1,  8, -1])\n",
    "# arr\n",
    "# >  array([0, 1, 2, 3, 4, 5, 6, 7, 8, 9])\n",
    "arr = np.array([0, 1, 2, 3, 4, 5, 6, 7, 8, 9])\n",
    "print(np.where(arr % 2 == 1, -1, arr))\n",
    "print(arr)"
   ]
  },
  {
   "cell_type": "code",
   "execution_count": 20,
   "metadata": {},
   "outputs": [
    {
     "name": "stdout",
     "output_type": "stream",
     "text": [
      "[0 1 2 3 4 5 6 7 8 9]\n",
      "(10,)\n",
      "[[0 1 2 3 4]\n",
      " [5 6 7 8 9]]\n",
      "[[0 1 2 3 4]\n",
      " [5 6 7 8 9]]\n"
     ]
    }
   ],
   "source": [
    "# 7. How to reshape an array?\n",
    "# Difficulty Level: L1\n",
    "\n",
    "# Q. Convert a 1D array to a 2D array with 2 rows\n",
    "\n",
    "# Input:\n",
    "\n",
    "# np.arange(10)\n",
    "\n",
    "# > array([ 0, 1, 2, 3, 4, 5, 6, 7, 8, 9])\n",
    "# Desired Output:\n",
    "\n",
    "# > array([[0, 1, 2, 3, 4],\n",
    "# >        [5, 6, 7, 8, 9]])\n",
    "arr = np.arange(10)\n",
    "print(arr)\n",
    "print(arr.shape)\n",
    "print(np.reshape(arr, (2, 5)))\n",
    "arr2 = np.arange(10)\n",
    "print(np.reshape(arr2, (2, -1)))"
   ]
  }
 ],
 "metadata": {
  "kernelspec": {
   "display_name": "Python 3",
   "language": "python",
   "name": "python3"
  },
  "language_info": {
   "codemirror_mode": {
    "name": "ipython",
    "version": 3
   },
   "file_extension": ".py",
   "mimetype": "text/x-python",
   "name": "python",
   "nbconvert_exporter": "python",
   "pygments_lexer": "ipython3",
   "version": "3.10.11"
  }
 },
 "nbformat": 4,
 "nbformat_minor": 2
}
